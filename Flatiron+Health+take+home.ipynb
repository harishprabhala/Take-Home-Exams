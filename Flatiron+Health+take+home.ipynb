{
 "cells": [
  {
   "cell_type": "code",
   "execution_count": 18,
   "metadata": {
    "collapsed": true
   },
   "outputs": [],
   "source": [
    "%matplotlib inline\n",
    "import numpy as np\n",
    "import pandas as pd\n",
    "import matplotlib.pyplot as plt\n",
    "import seaborn as sns"
   ]
  },
  {
   "cell_type": "code",
   "execution_count": 6,
   "metadata": {
    "collapsed": true
   },
   "outputs": [],
   "source": [
    "df1 = pd.ExcelFile('/Users/harishprabhala/Downloads/flatiron_qs_orders_admins_july_16.xlsx')"
   ]
  },
  {
   "cell_type": "code",
   "execution_count": 176,
   "metadata": {
    "collapsed": true
   },
   "outputs": [],
   "source": [
    "orders = df1.parse('Orders')\n",
    "admins = df1.parse('Admins')\n",
    "dems = df1.parse('Demographics')\n",
    "patients = df1.parse('Patients')\n",
    "practice = df1.parse('Practices')"
   ]
  },
  {
   "cell_type": "code",
   "execution_count": 8,
   "metadata": {},
   "outputs": [
    {
     "data": {
      "text/html": [
       "<div>\n",
       "<table border=\"1\" class=\"dataframe\">\n",
       "  <thead>\n",
       "    <tr style=\"text-align: right;\">\n",
       "      <th></th>\n",
       "      <th>patient_id</th>\n",
       "      <th>external_patient_id</th>\n",
       "      <th>order_id</th>\n",
       "      <th>order_date</th>\n",
       "    </tr>\n",
       "  </thead>\n",
       "  <tbody>\n",
       "    <tr>\n",
       "      <th>0</th>\n",
       "      <td>h9993d</td>\n",
       "      <td>70</td>\n",
       "      <td>w187808812917e</td>\n",
       "      <td>13-Dec-2012</td>\n",
       "    </tr>\n",
       "    <tr>\n",
       "      <th>1</th>\n",
       "      <td>h9993d</td>\n",
       "      <td>70</td>\n",
       "      <td>r90118525421e</td>\n",
       "      <td>7-Aug-2015</td>\n",
       "    </tr>\n",
       "    <tr>\n",
       "      <th>2</th>\n",
       "      <td>h9993d</td>\n",
       "      <td>70</td>\n",
       "      <td>h84358125584w</td>\n",
       "      <td>30-Sep-2015</td>\n",
       "    </tr>\n",
       "    <tr>\n",
       "      <th>3</th>\n",
       "      <td>h9993d</td>\n",
       "      <td>70</td>\n",
       "      <td>o81913333209g</td>\n",
       "      <td>8-Jan-2014</td>\n",
       "    </tr>\n",
       "    <tr>\n",
       "      <th>4</th>\n",
       "      <td>h9993d</td>\n",
       "      <td>70</td>\n",
       "      <td>e76139113344l</td>\n",
       "      <td>11-Oct-2012</td>\n",
       "    </tr>\n",
       "  </tbody>\n",
       "</table>\n",
       "</div>"
      ],
      "text/plain": [
       "  patient_id  external_patient_id        order_id   order_date\n",
       "0     h9993d                   70  w187808812917e  13-Dec-2012\n",
       "1     h9993d                   70   r90118525421e   7-Aug-2015\n",
       "2     h9993d                   70   h84358125584w  30-Sep-2015\n",
       "3     h9993d                   70   o81913333209g   8-Jan-2014\n",
       "4     h9993d                   70   e76139113344l  11-Oct-2012"
      ]
     },
     "execution_count": 8,
     "metadata": {},
     "output_type": "execute_result"
    }
   ],
   "source": [
    "orders.head()"
   ]
  },
  {
   "cell_type": "code",
   "execution_count": 9,
   "metadata": {},
   "outputs": [
    {
     "data": {
      "text/html": [
       "<div>\n",
       "<table border=\"1\" class=\"dataframe\">\n",
       "  <thead>\n",
       "    <tr style=\"text-align: right;\">\n",
       "      <th></th>\n",
       "      <th>patient_id</th>\n",
       "      <th>external_patient_id</th>\n",
       "      <th>order_id</th>\n",
       "      <th>administered_date</th>\n",
       "      <th>drug_name</th>\n",
       "    </tr>\n",
       "  </thead>\n",
       "  <tbody>\n",
       "    <tr>\n",
       "      <th>0</th>\n",
       "      <td>h9993d</td>\n",
       "      <td>70</td>\n",
       "      <td>w187808812917e</td>\n",
       "      <td>13-Dec-2012</td>\n",
       "      <td>bevacizumab</td>\n",
       "    </tr>\n",
       "    <tr>\n",
       "      <th>1</th>\n",
       "      <td>h9993d</td>\n",
       "      <td>70</td>\n",
       "      <td>r90118525421e</td>\n",
       "      <td>7-Aug-2015</td>\n",
       "      <td>nivolumab</td>\n",
       "    </tr>\n",
       "    <tr>\n",
       "      <th>2</th>\n",
       "      <td>h9993d</td>\n",
       "      <td>70</td>\n",
       "      <td>h84358125584w</td>\n",
       "      <td>30-Sep-2015</td>\n",
       "      <td>bevacizumab</td>\n",
       "    </tr>\n",
       "    <tr>\n",
       "      <th>3</th>\n",
       "      <td>h9993d</td>\n",
       "      <td>70</td>\n",
       "      <td>o81913333209g</td>\n",
       "      <td>8-Jan-2014</td>\n",
       "      <td>nivolumab</td>\n",
       "    </tr>\n",
       "    <tr>\n",
       "      <th>4</th>\n",
       "      <td>h9993d</td>\n",
       "      <td>70</td>\n",
       "      <td>e76139113344l</td>\n",
       "      <td>11-Oct-2012</td>\n",
       "      <td>erlotinib hcl</td>\n",
       "    </tr>\n",
       "  </tbody>\n",
       "</table>\n",
       "</div>"
      ],
      "text/plain": [
       "  patient_id  external_patient_id        order_id administered_date  \\\n",
       "0     h9993d                   70  w187808812917e       13-Dec-2012   \n",
       "1     h9993d                   70   r90118525421e        7-Aug-2015   \n",
       "2     h9993d                   70   h84358125584w       30-Sep-2015   \n",
       "3     h9993d                   70   o81913333209g        8-Jan-2014   \n",
       "4     h9993d                   70   e76139113344l       11-Oct-2012   \n",
       "\n",
       "       drug_name  \n",
       "0    bevacizumab  \n",
       "1      nivolumab  \n",
       "2    bevacizumab  \n",
       "3      nivolumab  \n",
       "4  erlotinib hcl  "
      ]
     },
     "execution_count": 9,
     "metadata": {},
     "output_type": "execute_result"
    }
   ],
   "source": [
    "admins.head()"
   ]
  },
  {
   "cell_type": "markdown",
   "metadata": {
    "collapsed": true
   },
   "source": [
    "## 1.\tWhen presented with a new dataset or database, what steps do you generally take to evaluate it prior to working with it?  ",
    "\n",
    "When I am presented with a new dataset or database, prior to conducting the analysis, I generally look for/evaluate the following:\n",
    "\n",
    "- a.\tSource of the data – to make sure the source is reliable, valid and accurate\n",
    "- b.\tSize of the dataset – to evaluate which analytical tool to use that is optimal/efficient according to the size of the data.\n",
    "- c.\tUnderstand the data – to make sure that I understand the tables and columns so that there is no misinterpretation of the data.\n",
    "- d.\tData dictionary/documentation - request for a data dictionary if necessary/applicable.\n"
   ]
  },
  {
   "cell_type": "markdown",
   "metadata": {},
   "source": [
    "## 2. Based on the information provided above and the attached dataset, what 3 questions would you like to understand prior to conducting any analysis of the data?  ",
    "\n",
    "\n",
    "I would like to understand the following three questions before conducting my analysis:\n",
    "\n",
    "- Demographic characteristics of the cancer patients\n",
    "- Drug/Medication usage\n",
    "- Patient volume per practice."
   ]
  },
  {
   "cell_type": "markdown",
   "metadata": {},
   "source": [
    "### Demographic Characteristics"
   ]
  },
  {
   "cell_type": "code",
   "execution_count": 12,
   "metadata": {},
   "outputs": [
    {
     "data": {
      "text/html": [
       "<div>\n",
       "<table border=\"1\" class=\"dataframe\">\n",
       "  <thead>\n",
       "    <tr style=\"text-align: right;\">\n",
       "      <th></th>\n",
       "      <th>patient_id</th>\n",
       "      <th>gender</th>\n",
       "      <th>age</th>\n",
       "      <th>race</th>\n",
       "    </tr>\n",
       "  </thead>\n",
       "  <tbody>\n",
       "    <tr>\n",
       "      <th>0</th>\n",
       "      <td>h9993d</td>\n",
       "      <td>female</td>\n",
       "      <td>69.0</td>\n",
       "      <td>NON_WHITE</td>\n",
       "    </tr>\n",
       "    <tr>\n",
       "      <th>1</th>\n",
       "      <td>w9986a</td>\n",
       "      <td>female</td>\n",
       "      <td>46.0</td>\n",
       "      <td>WHITE</td>\n",
       "    </tr>\n",
       "    <tr>\n",
       "      <th>2</th>\n",
       "      <td>n9925d</td>\n",
       "      <td>female</td>\n",
       "      <td>84.0</td>\n",
       "      <td>NON_WHITE</td>\n",
       "    </tr>\n",
       "    <tr>\n",
       "      <th>3</th>\n",
       "      <td>a9913g</td>\n",
       "      <td>female</td>\n",
       "      <td>87.0</td>\n",
       "      <td>NON_WHITE</td>\n",
       "    </tr>\n",
       "    <tr>\n",
       "      <th>4</th>\n",
       "      <td>t9815h</td>\n",
       "      <td>female</td>\n",
       "      <td>97.0</td>\n",
       "      <td>WHITE</td>\n",
       "    </tr>\n",
       "  </tbody>\n",
       "</table>\n",
       "</div>"
      ],
      "text/plain": [
       "  patient_id  gender   age       race\n",
       "0     h9993d  female  69.0  NON_WHITE\n",
       "1     w9986a  female  46.0      WHITE\n",
       "2     n9925d  female  84.0  NON_WHITE\n",
       "3     a9913g  female  87.0  NON_WHITE\n",
       "4     t9815h  female  97.0      WHITE"
      ]
     },
     "execution_count": 12,
     "metadata": {},
     "output_type": "execute_result"
    }
   ],
   "source": [
    "dems.head()"
   ]
  },
  {
   "cell_type": "code",
   "execution_count": 17,
   "metadata": {},
   "outputs": [
    {
     "data": {
      "text/plain": [
       "female     50\n",
       "male       43\n",
       "unknown     6\n",
       "Name: gender, dtype: int64"
      ]
     },
     "execution_count": 17,
     "metadata": {},
     "output_type": "execute_result"
    }
   ],
   "source": [
    "dems['gender'].value_counts()"
   ]
  },
  {
   "cell_type": "code",
   "execution_count": 43,
   "metadata": {},
   "outputs": [
    {
     "data": {
      "text/plain": [
       "<matplotlib.text.Text at 0x11636a908>"
      ]
     },
     "execution_count": 43,
     "metadata": {},
     "output_type": "execute_result"
    },
    {
     "data": {
      "image/png": "[encoded data removed]",
      "text/plain": [
       "<matplotlib.figure.Figure at 0x11634d7b8>"
      ]
     },
     "metadata": {},
     "output_type": "display_data"
    }
   ],
   "source": [
    "sns.barplot(x=dems.gender.value_counts().index, y=dems.gender.value_counts())\n",
    "plt.ylabel('count')"
   ]
  },
  {
   "cell_type": "code",
   "execution_count": 26,
   "metadata": {},
   "outputs": [
    {
     "data": {
      "text/plain": [
       "WHITE        57\n",
       "NON_WHITE    42\n",
       "Name: race, dtype: int64"
      ]
     },
     "execution_count": 26,
     "metadata": {},
     "output_type": "execute_result"
    }
   ],
   "source": [
    "dems['race'].value_counts()"
   ]
  },
  {
   "cell_type": "code",
   "execution_count": 44,
   "metadata": {},
   "outputs": [
    {
     "data": {
      "text/plain": [
       "<matplotlib.text.Text at 0x1164a1748>"
      ]
     },
     "execution_count": 44,
     "metadata": {},
     "output_type": "execute_result"
    },
    {
     "data": {
      "image/png": "[encoded data removed]",
      "text/plain": [
       "<matplotlib.figure.Figure at 0x116006e80>"
      ]
     },
     "metadata": {},
     "output_type": "display_data"
    }
   ],
   "source": [
    "sns.barplot(x=dems.race.value_counts().index, y=dems.race.value_counts())\n",
    "plt.ylabel('count')"
   ]
  },
  {
   "cell_type": "code",
   "execution_count": 34,
   "metadata": {},
   "outputs": [
    {
     "data": {
      "text/plain": [
       "count     99.000000\n",
       "mean      68.212121\n",
       "std       24.315223\n",
       "min       10.000000\n",
       "25%       50.500000\n",
       "50%       73.000000\n",
       "75%       86.000000\n",
       "max      118.000000\n",
       "Name: age, dtype: float64"
      ]
     },
     "execution_count": 34,
     "metadata": {},
     "output_type": "execute_result"
    }
   ],
   "source": [
    "dems['age'].describe()"
   ]
  },
  {
   "cell_type": "code",
   "execution_count": 39,
   "metadata": {},
   "outputs": [
    {
     "data": {
      "text/plain": [
       "<matplotlib.text.Text at 0x115fe7160>"
      ]
     },
     "execution_count": 39,
     "metadata": {},
     "output_type": "execute_result"
    },
    {
     "data": {
      "image/png": "[encoded data removed]",
      "text/plain": [
       "<matplotlib.figure.Figure at 0x116026e80>"
      ]
     },
     "metadata": {},
     "output_type": "display_data"
    }
   ],
   "source": [
    "dems['age'].plot(kind='hist', bins=20, edgecolor='black')\n",
    "plt.xlabel('age')"
   ]
  },
  {
   "cell_type": "markdown",
   "metadata": {},
   "source": [
    "## Drug Usage"
   ]
  },
  {
   "cell_type": "code",
   "execution_count": 40,
   "metadata": {},
   "outputs": [
    {
     "data": {
      "text/html": [
       "<div>\n",
       "<table border=\"1\" class=\"dataframe\">\n",
       "  <thead>\n",
       "    <tr style=\"text-align: right;\">\n",
       "      <th></th>\n",
       "      <th>patient_id</th>\n",
       "      <th>external_patient_id</th>\n",
       "      <th>order_id</th>\n",
       "      <th>administered_date</th>\n",
       "      <th>drug_name</th>\n",
       "    </tr>\n",
       "  </thead>\n",
       "  <tbody>\n",
       "    <tr>\n",
       "      <th>0</th>\n",
       "      <td>h9993d</td>\n",
       "      <td>70</td>\n",
       "      <td>w187808812917e</td>\n",
       "      <td>13-Dec-2012</td>\n",
       "      <td>bevacizumab</td>\n",
       "    </tr>\n",
       "    <tr>\n",
       "      <th>1</th>\n",
       "      <td>h9993d</td>\n",
       "      <td>70</td>\n",
       "      <td>r90118525421e</td>\n",
       "      <td>7-Aug-2015</td>\n",
       "      <td>nivolumab</td>\n",
       "    </tr>\n",
       "    <tr>\n",
       "      <th>2</th>\n",
       "      <td>h9993d</td>\n",
       "      <td>70</td>\n",
       "      <td>h84358125584w</td>\n",
       "      <td>30-Sep-2015</td>\n",
       "      <td>bevacizumab</td>\n",
       "    </tr>\n",
       "    <tr>\n",
       "      <th>3</th>\n",
       "      <td>h9993d</td>\n",
       "      <td>70</td>\n",
       "      <td>o81913333209g</td>\n",
       "      <td>8-Jan-2014</td>\n",
       "      <td>nivolumab</td>\n",
       "    </tr>\n",
       "    <tr>\n",
       "      <th>4</th>\n",
       "      <td>h9993d</td>\n",
       "      <td>70</td>\n",
       "      <td>e76139113344l</td>\n",
       "      <td>11-Oct-2012</td>\n",
       "      <td>erlotinib hcl</td>\n",
       "    </tr>\n",
       "  </tbody>\n",
       "</table>\n",
       "</div>"
      ],
      "text/plain": [
       "  patient_id  external_patient_id        order_id administered_date  \\\n",
       "0     h9993d                   70  w187808812917e       13-Dec-2012   \n",
       "1     h9993d                   70   r90118525421e        7-Aug-2015   \n",
       "2     h9993d                   70   h84358125584w       30-Sep-2015   \n",
       "3     h9993d                   70   o81913333209g        8-Jan-2014   \n",
       "4     h9993d                   70   e76139113344l       11-Oct-2012   \n",
       "\n",
       "       drug_name  \n",
       "0    bevacizumab  \n",
       "1      nivolumab  \n",
       "2    bevacizumab  \n",
       "3      nivolumab  \n",
       "4  erlotinib hcl  "
      ]
     },
     "execution_count": 40,
     "metadata": {},
     "output_type": "execute_result"
    }
   ],
   "source": [
    "admins.head()"
   ]
  },
  {
   "cell_type": "code",
   "execution_count": 41,
   "metadata": {},
   "outputs": [
    {
     "data": {
      "text/plain": [
       "nivolumab        109\n",
       "bevacizumab      104\n",
       "erlotinib hcl     63\n",
       "axitinib          28\n",
       "Name: drug_name, dtype: int64"
      ]
     },
     "execution_count": 41,
     "metadata": {},
     "output_type": "execute_result"
    }
   ],
   "source": [
    "admins.drug_name.value_counts()"
   ]
  },
  {
   "cell_type": "code",
   "execution_count": 45,
   "metadata": {},
   "outputs": [
    {
     "data": {
      "text/plain": [
       "<matplotlib.text.Text at 0x1165c7a20>"
      ]
     },
     "execution_count": 45,
     "metadata": {},
     "output_type": "execute_result"
    },
    {
     "data": {
      "image/png": "[encoded data removed]",
      "text/plain": [
       "<matplotlib.figure.Figure at 0x1164ac470>"
      ]
     },
     "metadata": {},
     "output_type": "display_data"
    }
   ],
   "source": [
    "sns.barplot(x=admins.drug_name.value_counts().index, y=admins.drug_name.value_counts())\n",
    "plt.ylabel('count')"
   ]
  },
  {
   "cell_type": "code",
   "execution_count": 47,
   "metadata": {},
   "outputs": [
    {
     "data": {
      "text/plain": [
       "external_patient_id  drug_name    \n",
       "1                    axitinib         1\n",
       "                     nivolumab        2\n",
       "2                    axitinib         1\n",
       "                     bevacizumab      2\n",
       "                     erlotinib hcl    1\n",
       "                     nivolumab        6\n",
       "3                    bevacizumab      1\n",
       "                     erlotinib hcl    2\n",
       "4                    bevacizumab      1\n",
       "                     erlotinib hcl    3\n",
       "                     nivolumab        2\n",
       "5                    axitinib         1\n",
       "                     nivolumab        2\n",
       "6                    axitinib         1\n",
       "                     erlotinib hcl    2\n",
       "7                    bevacizumab      1\n",
       "                     nivolumab        1\n",
       "8                    nivolumab        1\n",
       "9                    axitinib         1\n",
       "                     bevacizumab      2\n",
       "                     erlotinib hcl    2\n",
       "10                   nivolumab        2\n",
       "11                   nivolumab        3\n",
       "12                   axitinib         1\n",
       "13                   bevacizumab      1\n",
       "                     erlotinib hcl    1\n",
       "                     nivolumab        2\n",
       "14                   axitinib         2\n",
       "                     nivolumab        2\n",
       "15                   bevacizumab      2\n",
       "                                     ..\n",
       "90                   bevacizumab      1\n",
       "                     erlotinib hcl    1\n",
       "                     nivolumab        1\n",
       "91                   bevacizumab      1\n",
       "                     nivolumab        3\n",
       "92                   axitinib         1\n",
       "                     bevacizumab      1\n",
       "                     nivolumab        1\n",
       "93                   bevacizumab      1\n",
       "94                   erlotinib hcl    1\n",
       "                     nivolumab        3\n",
       "95                   bevacizumab      3\n",
       "                     erlotinib hcl    1\n",
       "                     nivolumab        4\n",
       "96                   axitinib         1\n",
       "                     bevacizumab      1\n",
       "                     erlotinib hcl    1\n",
       "                     nivolumab        2\n",
       "97                   bevacizumab      1\n",
       "                     erlotinib hcl    1\n",
       "                     nivolumab        1\n",
       "98                   bevacizumab      1\n",
       "                     erlotinib hcl    1\n",
       "                     nivolumab        1\n",
       "99                   axitinib         1\n",
       "                     bevacizumab      1\n",
       "100                  bevacizumab      1\n",
       "                     nivolumab        1\n",
       "104                  bevacizumab      2\n",
       "                     erlotinib hcl    1\n",
       "dtype: int64"
      ]
     },
     "execution_count": 47,
     "metadata": {},
     "output_type": "execute_result"
    }
   ],
   "source": [
    "d = admins[(admins.drug_name == 'nivolumab')|(admins.drug_name == 'bevacizumab')|(admins.drug_name == 'erlotinib hcl')|(admins.drug_name == 'axitinib')]\n",
    "g = d.groupby([d.external_patient_id,'drug_name']).size()\n",
    "g"
   ]
  },
  {
   "cell_type": "code",
   "execution_count": 53,
   "metadata": {},
   "outputs": [
    {
     "data": {
      "text/plain": [
       "<matplotlib.axes._subplots.AxesSubplot at 0x118dd2b70>"
      ]
     },
     "execution_count": 53,
     "metadata": {},
     "output_type": "execute_result"
    },
    {
     "data": {
      "image/png": "[encoded data removed]",
      "text/plain": [
       "<matplotlib.figure.Figure at 0x118ab7e10>"
      ]
     },
     "metadata": {},
     "output_type": "display_data"
    }
   ],
   "source": [
    "g.unstack(0).plot(kind ='bar', legend=None)"
   ]
  },
  {
   "cell_type": "markdown",
   "metadata": {},
   "source": [
    "#### In the above graph, we can see the frequency/count of the drug dosage in the patients. Nivolumab and Bevacizumab have been administered more frequently than erlotinib hcl and axitinib"
   ]
  },
  {
   "cell_type": "markdown",
   "metadata": {},
   "source": [
    "## Patient volume per practice"
   ]
  },
  {
   "cell_type": "code",
   "execution_count": 54,
   "metadata": {},
   "outputs": [
    {
     "data": {
      "text/html": [
       "<div>\n",
       "<table border=\"1\" class=\"dataframe\">\n",
       "  <thead>\n",
       "    <tr style=\"text-align: right;\">\n",
       "      <th></th>\n",
       "      <th>patient_id</th>\n",
       "      <th>external_patient_id</th>\n",
       "      <th>external_practice_id</th>\n",
       "      <th>internal_practice_id</th>\n",
       "      <th>diagnosis_date</th>\n",
       "      <th>advanced_diagnosis_date</th>\n",
       "    </tr>\n",
       "  </thead>\n",
       "  <tbody>\n",
       "    <tr>\n",
       "      <th>0</th>\n",
       "      <td>h9993d</td>\n",
       "      <td>70</td>\n",
       "      <td>QZ1</td>\n",
       "      <td>9</td>\n",
       "      <td>29-Mar-1992</td>\n",
       "      <td>NaN</td>\n",
       "    </tr>\n",
       "    <tr>\n",
       "      <th>1</th>\n",
       "      <td>w9986a</td>\n",
       "      <td>46</td>\n",
       "      <td>ZE4G</td>\n",
       "      <td>4</td>\n",
       "      <td>15-Feb-2012</td>\n",
       "      <td>3-Jul-2012</td>\n",
       "    </tr>\n",
       "    <tr>\n",
       "      <th>2</th>\n",
       "      <td>n9925d</td>\n",
       "      <td>15</td>\n",
       "      <td>FUM35</td>\n",
       "      <td>5</td>\n",
       "      <td>5-Jul-1962</td>\n",
       "      <td>18-May-2009</td>\n",
       "    </tr>\n",
       "    <tr>\n",
       "      <th>3</th>\n",
       "      <td>a9913g</td>\n",
       "      <td>6</td>\n",
       "      <td>DSVN67</td>\n",
       "      <td>7</td>\n",
       "      <td>16-Oct-1930</td>\n",
       "      <td>14-Sep-1970</td>\n",
       "    </tr>\n",
       "    <tr>\n",
       "      <th>4</th>\n",
       "      <td>a9913g</td>\n",
       "      <td>6</td>\n",
       "      <td>DSVN67</td>\n",
       "      <td>7</td>\n",
       "      <td>16-Oct-1930</td>\n",
       "      <td>14-Sep-1970</td>\n",
       "    </tr>\n",
       "  </tbody>\n",
       "</table>\n",
       "</div>"
      ],
      "text/plain": [
       "  patient_id  external_patient_id external_practice_id  internal_practice_id  \\\n",
       "0     h9993d                   70                  QZ1                     9   \n",
       "1     w9986a                   46                 ZE4G                     4   \n",
       "2     n9925d                   15                FUM35                     5   \n",
       "3     a9913g                    6               DSVN67                     7   \n",
       "4     a9913g                    6               DSVN67                     7   \n",
       "\n",
       "  diagnosis_date advanced_diagnosis_date  \n",
       "0    29-Mar-1992                     NaN  \n",
       "1    15-Feb-2012              3-Jul-2012  \n",
       "2     5-Jul-1962             18-May-2009  \n",
       "3    16-Oct-1930             14-Sep-1970  \n",
       "4    16-Oct-1930             14-Sep-1970  "
      ]
     },
     "execution_count": 54,
     "metadata": {},
     "output_type": "execute_result"
    }
   ],
   "source": [
    "patients.head()"
   ]
  },
  {
   "cell_type": "code",
   "execution_count": 67,
   "metadata": {},
   "outputs": [
    {
     "data": {
      "text/plain": [
       "DSVN67    15\n",
       "ZE4G      15\n",
       "FZAB      14\n",
       "FEI30     12\n",
       "FI3040    12\n",
       "KNO54     11\n",
       "FUM35      8\n",
       "QZ1        7\n",
       "FZ3        4\n",
       "WZ4        3\n",
       "Name: external_practice_id, dtype: int64"
      ]
     },
     "execution_count": 67,
     "metadata": {},
     "output_type": "execute_result"
    }
   ],
   "source": [
    "patients.external_practice_id.value_counts()"
   ]
  },
  {
   "cell_type": "code",
   "execution_count": 72,
   "metadata": {},
   "outputs": [
    {
     "data": {
      "text/plain": [
       "<matplotlib.text.Text at 0x11b3c3390>"
      ]
     },
     "execution_count": 72,
     "metadata": {},
     "output_type": "execute_result"
    },
    {
     "data": {
      "image/png": "[encoded data removed]",
      "text/plain": [
       "<matplotlib.figure.Figure at 0x11b1dcb70>"
      ]
     },
     "metadata": {},
     "output_type": "display_data"
    }
   ],
   "source": [
    "sns.barplot(x=patients.external_practice_id.value_counts().index, y=patients.external_practice_id.value_counts())\n",
    "plt.ylabel('patient count')"
   ]
  },
  {
   "cell_type": "markdown",
   "metadata": {},
   "source": [
    "#### The above graph shows the number of patients at each practice/client."
   ]
  },
  {
   "cell_type": "code",
   "execution_count": 85,
   "metadata": {},
   "outputs": [],
   "source": [
    "prac_drugs=patients.merge(admins,how='outer',left_on='patient_id',right_on='patient_id')"
   ]
  },
  {
   "cell_type": "code",
   "execution_count": 87,
   "metadata": {},
   "outputs": [
    {
     "name": "stdout",
     "output_type": "stream",
     "text": [
      "<class 'pandas.core.frame.DataFrame'>\n",
      "Int64Index: 315 entries, 0 to 314\n",
      "Data columns (total 10 columns):\n",
      "patient_id                 315 non-null object\n",
      "external_patient_id_x      312 non-null float64\n",
      "external_practice_id       312 non-null object\n",
      "internal_practice_id       312 non-null float64\n",
      "diagnosis_date             305 non-null object\n",
      "advanced_diagnosis_date    305 non-null object\n",
      "external_patient_id_y      315 non-null int64\n",
      "order_id                   315 non-null object\n",
      "administered_date          315 non-null object\n",
      "drug_name                  315 non-null object\n",
      "dtypes: float64(2), int64(1), object(7)\n",
      "memory usage: 27.1+ KB\n"
     ]
    }
   ],
   "source": [
    "prac_drugs.info()"
   ]
  },
  {
   "cell_type": "code",
   "execution_count": 90,
   "metadata": {},
   "outputs": [
    {
     "data": {
      "text/html": [
       "<div>\n",
       "<table border=\"1\" class=\"dataframe\">\n",
       "  <thead>\n",
       "    <tr style=\"text-align: right;\">\n",
       "      <th></th>\n",
       "      <th>patient_id</th>\n",
       "      <th>external_patient_id_x</th>\n",
       "      <th>external_practice_id</th>\n",
       "      <th>internal_practice_id</th>\n",
       "      <th>diagnosis_date</th>\n",
       "      <th>advanced_diagnosis_date</th>\n",
       "      <th>external_patient_id_y</th>\n",
       "      <th>order_id</th>\n",
       "      <th>administered_date</th>\n",
       "      <th>drug_name</th>\n",
       "    </tr>\n",
       "  </thead>\n",
       "  <tbody>\n",
       "    <tr>\n",
       "      <th>0</th>\n",
       "      <td>h9993d</td>\n",
       "      <td>70.0</td>\n",
       "      <td>QZ1</td>\n",
       "      <td>9.0</td>\n",
       "      <td>29-Mar-1992</td>\n",
       "      <td>NaN</td>\n",
       "      <td>70</td>\n",
       "      <td>w187808812917e</td>\n",
       "      <td>13-Dec-2012</td>\n",
       "      <td>bevacizumab</td>\n",
       "    </tr>\n",
       "    <tr>\n",
       "      <th>1</th>\n",
       "      <td>h9993d</td>\n",
       "      <td>70.0</td>\n",
       "      <td>QZ1</td>\n",
       "      <td>9.0</td>\n",
       "      <td>29-Mar-1992</td>\n",
       "      <td>NaN</td>\n",
       "      <td>70</td>\n",
       "      <td>r90118525421e</td>\n",
       "      <td>7-Aug-2015</td>\n",
       "      <td>nivolumab</td>\n",
       "    </tr>\n",
       "    <tr>\n",
       "      <th>2</th>\n",
       "      <td>h9993d</td>\n",
       "      <td>70.0</td>\n",
       "      <td>QZ1</td>\n",
       "      <td>9.0</td>\n",
       "      <td>29-Mar-1992</td>\n",
       "      <td>NaN</td>\n",
       "      <td>70</td>\n",
       "      <td>h84358125584w</td>\n",
       "      <td>30-Sep-2015</td>\n",
       "      <td>bevacizumab</td>\n",
       "    </tr>\n",
       "    <tr>\n",
       "      <th>3</th>\n",
       "      <td>h9993d</td>\n",
       "      <td>70.0</td>\n",
       "      <td>QZ1</td>\n",
       "      <td>9.0</td>\n",
       "      <td>29-Mar-1992</td>\n",
       "      <td>NaN</td>\n",
       "      <td>70</td>\n",
       "      <td>o81913333209g</td>\n",
       "      <td>8-Jan-2014</td>\n",
       "      <td>nivolumab</td>\n",
       "    </tr>\n",
       "    <tr>\n",
       "      <th>4</th>\n",
       "      <td>h9993d</td>\n",
       "      <td>70.0</td>\n",
       "      <td>QZ1</td>\n",
       "      <td>9.0</td>\n",
       "      <td>29-Mar-1992</td>\n",
       "      <td>NaN</td>\n",
       "      <td>70</td>\n",
       "      <td>e76139113344l</td>\n",
       "      <td>11-Oct-2012</td>\n",
       "      <td>erlotinib hcl</td>\n",
       "    </tr>\n",
       "  </tbody>\n",
       "</table>\n",
       "</div>"
      ],
      "text/plain": [
       "  patient_id  external_patient_id_x external_practice_id  \\\n",
       "0     h9993d                   70.0                  QZ1   \n",
       "1     h9993d                   70.0                  QZ1   \n",
       "2     h9993d                   70.0                  QZ1   \n",
       "3     h9993d                   70.0                  QZ1   \n",
       "4     h9993d                   70.0                  QZ1   \n",
       "\n",
       "   internal_practice_id diagnosis_date advanced_diagnosis_date  \\\n",
       "0                   9.0    29-Mar-1992                     NaN   \n",
       "1                   9.0    29-Mar-1992                     NaN   \n",
       "2                   9.0    29-Mar-1992                     NaN   \n",
       "3                   9.0    29-Mar-1992                     NaN   \n",
       "4                   9.0    29-Mar-1992                     NaN   \n",
       "\n",
       "   external_patient_id_y        order_id administered_date      drug_name  \n",
       "0                     70  w187808812917e       13-Dec-2012    bevacizumab  \n",
       "1                     70   r90118525421e        7-Aug-2015      nivolumab  \n",
       "2                     70   h84358125584w       30-Sep-2015    bevacizumab  \n",
       "3                     70   o81913333209g        8-Jan-2014      nivolumab  \n",
       "4                     70   e76139113344l       11-Oct-2012  erlotinib hcl  "
      ]
     },
     "execution_count": 90,
     "metadata": {},
     "output_type": "execute_result"
    }
   ],
   "source": [
    "prac_drugs.head()"
   ]
  },
  {
   "cell_type": "code",
   "execution_count": 99,
   "metadata": {},
   "outputs": [
    {
     "data": {
      "text/plain": [
       "external_practice_id  drug_name    \n",
       "DSVN67                axitinib          6\n",
       "                      bevacizumab      11\n",
       "                      erlotinib hcl    13\n",
       "                      nivolumab        13\n",
       "FEI30                 axitinib          2\n",
       "                      bevacizumab      12\n",
       "                      erlotinib hcl     6\n",
       "                      nivolumab        11\n",
       "FI3040                axitinib          5\n",
       "                      bevacizumab      22\n",
       "                      erlotinib hcl     9\n",
       "                      nivolumab        10\n",
       "FUM35                 bevacizumab       3\n",
       "                      erlotinib hcl     6\n",
       "                      nivolumab         8\n",
       "FZ3                   axitinib          3\n",
       "                      bevacizumab       3\n",
       "                      erlotinib hcl     3\n",
       "                      nivolumab         1\n",
       "FZAB                  axitinib          3\n",
       "                      bevacizumab      18\n",
       "                      erlotinib hcl     8\n",
       "                      nivolumab        21\n",
       "KNO54                 axitinib          1\n",
       "                      bevacizumab      12\n",
       "                      erlotinib hcl     8\n",
       "                      nivolumab        11\n",
       "QZ1                   axitinib          2\n",
       "                      bevacizumab       6\n",
       "                      erlotinib hcl     3\n",
       "                      nivolumab        11\n",
       "WZ4                   axitinib          1\n",
       "                      bevacizumab       3\n",
       "                      erlotinib hcl     1\n",
       "                      nivolumab         7\n",
       "ZE4G                  axitinib          6\n",
       "                      bevacizumab      15\n",
       "                      erlotinib hcl     8\n",
       "                      nivolumab        20\n",
       "dtype: int64"
      ]
     },
     "execution_count": 99,
     "metadata": {},
     "output_type": "execute_result"
    }
   ],
   "source": [
    "prac_drugs.groupby(['external_practice_id','drug_name']).size()"
   ]
  },
  {
   "cell_type": "code",
   "execution_count": 103,
   "metadata": {},
   "outputs": [],
   "source": [
    "p = prac_drugs.groupby(['external_practice_id','drug_name']).size()"
   ]
  },
  {
   "cell_type": "code",
   "execution_count": 105,
   "metadata": {},
   "outputs": [
    {
     "data": {
      "text/plain": [
       "<matplotlib.axes._subplots.AxesSubplot at 0x11be3dcf8>"
      ]
     },
     "execution_count": 105,
     "metadata": {},
     "output_type": "execute_result"
    },
    {
     "data": {
      "image/png": "[encoded data removed]",
      "text/plain": [
       "<matplotlib.figure.Figure at 0x11b770b38>"
      ]
     },
     "metadata": {},
     "output_type": "display_data"
    }
   ],
   "source": [
    "p.unstack(1).plot(kind ='bar')"
   ]
  },
  {
   "cell_type": "markdown",
   "metadata": {},
   "source": [
    "#### The above graph shows the frequency of each administered drug at each practice/client."
   ]
  },
  {
   "cell_type": "markdown",
   "metadata": {},
   "source": [
    "## 3. How would you prep the dataset provided for analysis? Please list steps taken and provide code used to prep the tables for analysis.\n",
    "\n",
    "The dataset given for this exercise is small and fairly neat w/o any missing data. So, I do not find much need to prep the data in this case. However, if the dataset is big with large number of columns and rows, then I would take the following steps:\n",
    "\n",
    "- Evaluate the important columns that are useful for the analysis and keep them while removing the rest of the columns that are not useful.\n",
    "- If the size of the missing data is large, then thoroughly evaluate the columns and rows to conduct data imputation.\n",
    "- If there are any outliers that are heavily skewing the data, then evaluate whether or not it is important/prudent to remove the outliers.\n",
    "- Conduct central tendency tests and evaulate the variable spreads.\n",
    "- If the analysis requires predictive modeling/machine learning, then conduct feature engineering of the dependent and independent variables to build and train different models.\n",
    "\n",
    "Since, this analysis does not require to conduct any statistical testing or predictive modeling, the data prep steps are pretty limited in this case and I will be using the data as it is."
   ]
  },
  {
   "cell_type": "markdown",
   "metadata": {},
   "source": [
    "## Using the datasets you have prepped, please answer the following questions and provide all code/output used. Be sure to include and explain any assumptions made when answering each question."
   ]
  },
  {
   "cell_type": "markdown",
   "metadata": {},
   "source": [
    "### 1. What is the average time elapsed between a patient’s initial diagnosis date and a patient’s first treatment? Does this time vary by gender?\n",
    "\n",
    "- The assumption here is that the patient's first treatment date is the date when the first drug was administered. For this analysis, I have taken the minimun of each patient's administered date. Thus, it gives us the earliest date when the patient has taken a drug."
   ]
  },
  {
   "cell_type": "code",
   "execution_count": 117,
   "metadata": {},
   "outputs": [
    {
     "data": {
      "text/html": [
       "<div>\n",
       "<table border=\"1\" class=\"dataframe\">\n",
       "  <thead>\n",
       "    <tr style=\"text-align: right;\">\n",
       "      <th></th>\n",
       "      <th>patient_id</th>\n",
       "      <th>external_patient_id</th>\n",
       "      <th>order_id</th>\n",
       "      <th>administered_date</th>\n",
       "      <th>drug_name</th>\n",
       "    </tr>\n",
       "  </thead>\n",
       "  <tbody>\n",
       "    <tr>\n",
       "      <th>0</th>\n",
       "      <td>h9993d</td>\n",
       "      <td>70</td>\n",
       "      <td>w187808812917e</td>\n",
       "      <td>13-Dec-2012</td>\n",
       "      <td>bevacizumab</td>\n",
       "    </tr>\n",
       "    <tr>\n",
       "      <th>1</th>\n",
       "      <td>h9993d</td>\n",
       "      <td>70</td>\n",
       "      <td>r90118525421e</td>\n",
       "      <td>7-Aug-2015</td>\n",
       "      <td>nivolumab</td>\n",
       "    </tr>\n",
       "    <tr>\n",
       "      <th>2</th>\n",
       "      <td>h9993d</td>\n",
       "      <td>70</td>\n",
       "      <td>h84358125584w</td>\n",
       "      <td>30-Sep-2015</td>\n",
       "      <td>bevacizumab</td>\n",
       "    </tr>\n",
       "    <tr>\n",
       "      <th>3</th>\n",
       "      <td>h9993d</td>\n",
       "      <td>70</td>\n",
       "      <td>o81913333209g</td>\n",
       "      <td>8-Jan-2014</td>\n",
       "      <td>nivolumab</td>\n",
       "    </tr>\n",
       "    <tr>\n",
       "      <th>4</th>\n",
       "      <td>h9993d</td>\n",
       "      <td>70</td>\n",
       "      <td>e76139113344l</td>\n",
       "      <td>11-Oct-2012</td>\n",
       "      <td>erlotinib hcl</td>\n",
       "    </tr>\n",
       "  </tbody>\n",
       "</table>\n",
       "</div>"
      ],
      "text/plain": [
       "  patient_id  external_patient_id        order_id administered_date  \\\n",
       "0     h9993d                   70  w187808812917e       13-Dec-2012   \n",
       "1     h9993d                   70   r90118525421e        7-Aug-2015   \n",
       "2     h9993d                   70   h84358125584w       30-Sep-2015   \n",
       "3     h9993d                   70   o81913333209g        8-Jan-2014   \n",
       "4     h9993d                   70   e76139113344l       11-Oct-2012   \n",
       "\n",
       "       drug_name  \n",
       "0    bevacizumab  \n",
       "1      nivolumab  \n",
       "2    bevacizumab  \n",
       "3      nivolumab  \n",
       "4  erlotinib hcl  "
      ]
     },
     "execution_count": 117,
     "metadata": {},
     "output_type": "execute_result"
    }
   ],
   "source": [
    "admins.head()"
   ]
  },
  {
   "cell_type": "code",
   "execution_count": 155,
   "metadata": {},
   "outputs": [],
   "source": [
    "admins_copy = admins[['patient_id','administered_date']]"
   ]
  },
  {
   "cell_type": "code",
   "execution_count": 166,
   "metadata": {},
   "outputs": [
    {
     "name": "stderr",
     "output_type": "stream",
     "text": [
      "/Users/harishprabhala/anaconda/lib/python3.6/site-packages/ipykernel/__main__.py:1: SettingWithCopyWarning: \n",
      "A value is trying to be set on a copy of a slice from a DataFrame.\n",
      "Try using .loc[row_indexer,col_indexer] = value instead\n",
      "\n",
      "See the caveats in the documentation: http://pandas.pydata.org/pandas-docs/stable/indexing.html#indexing-view-versus-copy\n",
      "  if __name__ == '__main__':\n"
     ]
    }
   ],
   "source": [
    "admins_copy['administered_date'] = pd.DatetimeIndex(admins_copy['administered_date'])"
   ]
  },
  {
   "cell_type": "code",
   "execution_count": 167,
   "metadata": {},
   "outputs": [
    {
     "data": {
      "text/html": [
       "<div>\n",
       "<table border=\"1\" class=\"dataframe\">\n",
       "  <thead>\n",
       "    <tr style=\"text-align: right;\">\n",
       "      <th></th>\n",
       "      <th>patient_id</th>\n",
       "      <th>administered_date</th>\n",
       "    </tr>\n",
       "  </thead>\n",
       "  <tbody>\n",
       "    <tr>\n",
       "      <th>0</th>\n",
       "      <td>h9993d</td>\n",
       "      <td>2012-12-13</td>\n",
       "    </tr>\n",
       "    <tr>\n",
       "      <th>1</th>\n",
       "      <td>h9993d</td>\n",
       "      <td>2015-08-07</td>\n",
       "    </tr>\n",
       "    <tr>\n",
       "      <th>2</th>\n",
       "      <td>h9993d</td>\n",
       "      <td>2015-09-30</td>\n",
       "    </tr>\n",
       "    <tr>\n",
       "      <th>3</th>\n",
       "      <td>h9993d</td>\n",
       "      <td>2014-01-08</td>\n",
       "    </tr>\n",
       "    <tr>\n",
       "      <th>4</th>\n",
       "      <td>h9993d</td>\n",
       "      <td>2012-10-11</td>\n",
       "    </tr>\n",
       "  </tbody>\n",
       "</table>\n",
       "</div>"
      ],
      "text/plain": [
       "  patient_id administered_date\n",
       "0     h9993d        2012-12-13\n",
       "1     h9993d        2015-08-07\n",
       "2     h9993d        2015-09-30\n",
       "3     h9993d        2014-01-08\n",
       "4     h9993d        2012-10-11"
      ]
     },
     "execution_count": 167,
     "metadata": {},
     "output_type": "execute_result"
    }
   ],
   "source": [
    "admins_copy.head()"
   ]
  },
  {
   "cell_type": "code",
   "execution_count": 169,
   "metadata": {},
   "outputs": [],
   "source": [
    "data = pd.DataFrame(admins_copy.groupby(['patient_id'],sort=False)['administered_date'].min())"
   ]
  },
  {
   "cell_type": "code",
   "execution_count": 172,
   "metadata": {},
   "outputs": [
    {
     "data": {
      "text/html": [
       "<div>\n",
       "<table border=\"1\" class=\"dataframe\">\n",
       "  <thead>\n",
       "    <tr style=\"text-align: right;\">\n",
       "      <th></th>\n",
       "      <th>administered_date</th>\n",
       "    </tr>\n",
       "    <tr>\n",
       "      <th>patient_id</th>\n",
       "      <th></th>\n",
       "    </tr>\n",
       "  </thead>\n",
       "  <tbody>\n",
       "    <tr>\n",
       "      <th>h9993d</th>\n",
       "      <td>2012-10-11</td>\n",
       "    </tr>\n",
       "    <tr>\n",
       "      <th>w9986a</th>\n",
       "      <td>2011-05-25</td>\n",
       "    </tr>\n",
       "    <tr>\n",
       "      <th>n9925d</th>\n",
       "      <td>2013-07-11</td>\n",
       "    </tr>\n",
       "    <tr>\n",
       "      <th>a9913g</th>\n",
       "      <td>2013-11-12</td>\n",
       "    </tr>\n",
       "    <tr>\n",
       "      <th>t9815h</th>\n",
       "      <td>2014-06-04</td>\n",
       "    </tr>\n",
       "    <tr>\n",
       "      <th>d9750n</th>\n",
       "      <td>2013-01-24</td>\n",
       "    </tr>\n",
       "    <tr>\n",
       "      <th>t9509b</th>\n",
       "      <td>2012-10-02</td>\n",
       "    </tr>\n",
       "    <tr>\n",
       "      <th>s9417f</th>\n",
       "      <td>2013-05-02</td>\n",
       "    </tr>\n",
       "    <tr>\n",
       "      <th>b9305v</th>\n",
       "      <td>2014-01-14</td>\n",
       "    </tr>\n",
       "    <tr>\n",
       "      <th>p9302d</th>\n",
       "      <td>2014-01-28</td>\n",
       "    </tr>\n",
       "  </tbody>\n",
       "</table>\n",
       "</div>"
      ],
      "text/plain": [
       "           administered_date\n",
       "patient_id                  \n",
       "h9993d            2012-10-11\n",
       "w9986a            2011-05-25\n",
       "n9925d            2013-07-11\n",
       "a9913g            2013-11-12\n",
       "t9815h            2014-06-04\n",
       "d9750n            2013-01-24\n",
       "t9509b            2012-10-02\n",
       "s9417f            2013-05-02\n",
       "b9305v            2014-01-14\n",
       "p9302d            2014-01-28"
      ]
     },
     "execution_count": 172,
     "metadata": {},
     "output_type": "execute_result"
    }
   ],
   "source": [
    "data.head(10)"
   ]
  },
  {
   "cell_type": "code",
   "execution_count": 242,
   "metadata": {},
   "outputs": [],
   "source": [
    "diag_treat_diff=patients.merge(data,how='outer',left_on='patient_id',right_index=True)"
   ]
  },
  {
   "cell_type": "code",
   "execution_count": 246,
   "metadata": {},
   "outputs": [
    {
     "data": {
      "text/html": [
       "<div>\n",
       "<table border=\"1\" class=\"dataframe\">\n",
       "  <thead>\n",
       "    <tr style=\"text-align: right;\">\n",
       "      <th></th>\n",
       "      <th>patient_id</th>\n",
       "      <th>external_patient_id</th>\n",
       "      <th>external_practice_id</th>\n",
       "      <th>internal_practice_id</th>\n",
       "      <th>diagnosis_date</th>\n",
       "      <th>advanced_diagnosis_date</th>\n",
       "      <th>administered_date</th>\n",
       "    </tr>\n",
       "  </thead>\n",
       "  <tbody>\n",
       "    <tr>\n",
       "      <th>0</th>\n",
       "      <td>h9993d</td>\n",
       "      <td>70.0</td>\n",
       "      <td>QZ1</td>\n",
       "      <td>9.0</td>\n",
       "      <td>29-Mar-1992</td>\n",
       "      <td>NaN</td>\n",
       "      <td>2012-10-11</td>\n",
       "    </tr>\n",
       "    <tr>\n",
       "      <th>1</th>\n",
       "      <td>w9986a</td>\n",
       "      <td>46.0</td>\n",
       "      <td>ZE4G</td>\n",
       "      <td>4.0</td>\n",
       "      <td>15-Feb-2012</td>\n",
       "      <td>3-Jul-2012</td>\n",
       "      <td>2011-05-25</td>\n",
       "    </tr>\n",
       "    <tr>\n",
       "      <th>2</th>\n",
       "      <td>n9925d</td>\n",
       "      <td>15.0</td>\n",
       "      <td>FUM35</td>\n",
       "      <td>5.0</td>\n",
       "      <td>5-Jul-1962</td>\n",
       "      <td>18-May-2009</td>\n",
       "      <td>2013-07-11</td>\n",
       "    </tr>\n",
       "    <tr>\n",
       "      <th>3</th>\n",
       "      <td>a9913g</td>\n",
       "      <td>6.0</td>\n",
       "      <td>DSVN67</td>\n",
       "      <td>7.0</td>\n",
       "      <td>16-Oct-1930</td>\n",
       "      <td>14-Sep-1970</td>\n",
       "      <td>2013-11-12</td>\n",
       "    </tr>\n",
       "    <tr>\n",
       "      <th>4</th>\n",
       "      <td>a9913g</td>\n",
       "      <td>6.0</td>\n",
       "      <td>DSVN67</td>\n",
       "      <td>7.0</td>\n",
       "      <td>16-Oct-1930</td>\n",
       "      <td>14-Sep-1970</td>\n",
       "      <td>2013-11-12</td>\n",
       "    </tr>\n",
       "  </tbody>\n",
       "</table>\n",
       "</div>"
      ],
      "text/plain": [
       "  patient_id  external_patient_id external_practice_id  internal_practice_id  \\\n",
       "0     h9993d                 70.0                  QZ1                   9.0   \n",
       "1     w9986a                 46.0                 ZE4G                   4.0   \n",
       "2     n9925d                 15.0                FUM35                   5.0   \n",
       "3     a9913g                  6.0               DSVN67                   7.0   \n",
       "4     a9913g                  6.0               DSVN67                   7.0   \n",
       "\n",
       "  diagnosis_date advanced_diagnosis_date administered_date  \n",
       "0    29-Mar-1992                     NaN        2012-10-11  \n",
       "1    15-Feb-2012              3-Jul-2012        2011-05-25  \n",
       "2     5-Jul-1962             18-May-2009        2013-07-11  \n",
       "3    16-Oct-1930             14-Sep-1970        2013-11-12  \n",
       "4    16-Oct-1930             14-Sep-1970        2013-11-12  "
      ]
     },
     "execution_count": 246,
     "metadata": {},
     "output_type": "execute_result"
    }
   ],
   "source": [
    "diag_treat_diff.head()"
   ]
  },
  {
   "cell_type": "code",
   "execution_count": 247,
   "metadata": {
    "collapsed": true
   },
   "outputs": [],
   "source": [
    "diag_treat_diff['diagnosis_date'] = pd.DatetimeIndex(diag_treat_diff['diagnosis_date'])"
   ]
  },
  {
   "cell_type": "code",
   "execution_count": 248,
   "metadata": {},
   "outputs": [],
   "source": [
    "diag_treat_diff['datediff'] = (diag_treat_diff['administered_date'] - diag_treat_diff['diagnosis_date']).dt.days"
   ]
  },
  {
   "cell_type": "code",
   "execution_count": 249,
   "metadata": {},
   "outputs": [
    {
     "data": {
      "text/html": [
       "<div>\n",
       "<table border=\"1\" class=\"dataframe\">\n",
       "  <thead>\n",
       "    <tr style=\"text-align: right;\">\n",
       "      <th></th>\n",
       "      <th>patient_id</th>\n",
       "      <th>external_patient_id</th>\n",
       "      <th>external_practice_id</th>\n",
       "      <th>internal_practice_id</th>\n",
       "      <th>diagnosis_date</th>\n",
       "      <th>advanced_diagnosis_date</th>\n",
       "      <th>administered_date</th>\n",
       "      <th>datediff</th>\n",
       "    </tr>\n",
       "  </thead>\n",
       "  <tbody>\n",
       "    <tr>\n",
       "      <th>0</th>\n",
       "      <td>h9993d</td>\n",
       "      <td>70.0</td>\n",
       "      <td>QZ1</td>\n",
       "      <td>9.0</td>\n",
       "      <td>1992-03-29</td>\n",
       "      <td>NaN</td>\n",
       "      <td>2012-10-11</td>\n",
       "      <td>7501.0</td>\n",
       "    </tr>\n",
       "    <tr>\n",
       "      <th>1</th>\n",
       "      <td>w9986a</td>\n",
       "      <td>46.0</td>\n",
       "      <td>ZE4G</td>\n",
       "      <td>4.0</td>\n",
       "      <td>2012-02-15</td>\n",
       "      <td>3-Jul-2012</td>\n",
       "      <td>2011-05-25</td>\n",
       "      <td>-266.0</td>\n",
       "    </tr>\n",
       "    <tr>\n",
       "      <th>2</th>\n",
       "      <td>n9925d</td>\n",
       "      <td>15.0</td>\n",
       "      <td>FUM35</td>\n",
       "      <td>5.0</td>\n",
       "      <td>1962-07-05</td>\n",
       "      <td>18-May-2009</td>\n",
       "      <td>2013-07-11</td>\n",
       "      <td>18634.0</td>\n",
       "    </tr>\n",
       "    <tr>\n",
       "      <th>3</th>\n",
       "      <td>a9913g</td>\n",
       "      <td>6.0</td>\n",
       "      <td>DSVN67</td>\n",
       "      <td>7.0</td>\n",
       "      <td>1930-10-16</td>\n",
       "      <td>14-Sep-1970</td>\n",
       "      <td>2013-11-12</td>\n",
       "      <td>30343.0</td>\n",
       "    </tr>\n",
       "    <tr>\n",
       "      <th>4</th>\n",
       "      <td>a9913g</td>\n",
       "      <td>6.0</td>\n",
       "      <td>DSVN67</td>\n",
       "      <td>7.0</td>\n",
       "      <td>1930-10-16</td>\n",
       "      <td>14-Sep-1970</td>\n",
       "      <td>2013-11-12</td>\n",
       "      <td>30343.0</td>\n",
       "    </tr>\n",
       "  </tbody>\n",
       "</table>\n",
       "</div>"
      ],
      "text/plain": [
       "  patient_id  external_patient_id external_practice_id  internal_practice_id  \\\n",
       "0     h9993d                 70.0                  QZ1                   9.0   \n",
       "1     w9986a                 46.0                 ZE4G                   4.0   \n",
       "2     n9925d                 15.0                FUM35                   5.0   \n",
       "3     a9913g                  6.0               DSVN67                   7.0   \n",
       "4     a9913g                  6.0               DSVN67                   7.0   \n",
       "\n",
       "  diagnosis_date advanced_diagnosis_date administered_date  datediff  \n",
       "0     1992-03-29                     NaN        2012-10-11    7501.0  \n",
       "1     2012-02-15              3-Jul-2012        2011-05-25    -266.0  \n",
       "2     1962-07-05             18-May-2009        2013-07-11   18634.0  \n",
       "3     1930-10-16             14-Sep-1970        2013-11-12   30343.0  \n",
       "4     1930-10-16             14-Sep-1970        2013-11-12   30343.0  "
      ]
     },
     "execution_count": 249,
     "metadata": {},
     "output_type": "execute_result"
    }
   ],
   "source": [
    "# This table gives us the number of days elapsed (datediff) between the diagnosis date \n",
    "# and the first drug administered date \n",
    "diag_treat_diff.head() "
   ]
  },
  {
   "cell_type": "markdown",
   "metadata": {},
   "source": [
    "#### In the above table, there are some outliers where the administered date is earlier than the initial diagnosis date. These may be mistakenly entered so we omit these rows for our analysis."
   ]
  },
  {
   "cell_type": "code",
   "execution_count": 250,
   "metadata": {},
   "outputs": [
    {
     "data": {
      "text/plain": [
       "external_patient_id        51.239583\n",
       "internal_practice_id        5.447917\n",
       "datediff                14622.281250\n",
       "dtype: float64"
      ]
     },
     "execution_count": 250,
     "metadata": {},
     "output_type": "execute_result"
    }
   ],
   "source": [
    "diag_treat_diff[(diag_treat_diff.datediff>0)].mean()"
   ]
  },
  {
   "cell_type": "markdown",
   "metadata": {},
   "source": [
    "#### The average days elapsed between initial diagnosis and first treatment is 14622 days or 40 years"
   ]
  },
  {
   "cell_type": "code",
   "execution_count": 251,
   "metadata": {
    "collapsed": true
   },
   "outputs": [],
   "source": [
    "diag_treat_diff_gender=diag_treat_diff.merge(dems,how='outer',left_on='patient_id',right_on='patient_id')"
   ]
  },
  {
   "cell_type": "code",
   "execution_count": 252,
   "metadata": {},
   "outputs": [
    {
     "data": {
      "text/html": [
       "<div>\n",
       "<table border=\"1\" class=\"dataframe\">\n",
       "  <thead>\n",
       "    <tr style=\"text-align: right;\">\n",
       "      <th></th>\n",
       "      <th>patient_id</th>\n",
       "      <th>external_patient_id</th>\n",
       "      <th>external_practice_id</th>\n",
       "      <th>internal_practice_id</th>\n",
       "      <th>diagnosis_date</th>\n",
       "      <th>advanced_diagnosis_date</th>\n",
       "      <th>administered_date</th>\n",
       "      <th>datediff</th>\n",
       "      <th>gender</th>\n",
       "      <th>age</th>\n",
       "      <th>race</th>\n",
       "    </tr>\n",
       "  </thead>\n",
       "  <tbody>\n",
       "    <tr>\n",
       "      <th>0</th>\n",
       "      <td>h9993d</td>\n",
       "      <td>70.0</td>\n",
       "      <td>QZ1</td>\n",
       "      <td>9.0</td>\n",
       "      <td>1992-03-29</td>\n",
       "      <td>NaN</td>\n",
       "      <td>2012-10-11</td>\n",
       "      <td>7501.0</td>\n",
       "      <td>female</td>\n",
       "      <td>69.0</td>\n",
       "      <td>NON_WHITE</td>\n",
       "    </tr>\n",
       "    <tr>\n",
       "      <th>1</th>\n",
       "      <td>w9986a</td>\n",
       "      <td>46.0</td>\n",
       "      <td>ZE4G</td>\n",
       "      <td>4.0</td>\n",
       "      <td>2012-02-15</td>\n",
       "      <td>3-Jul-2012</td>\n",
       "      <td>2011-05-25</td>\n",
       "      <td>-266.0</td>\n",
       "      <td>female</td>\n",
       "      <td>46.0</td>\n",
       "      <td>WHITE</td>\n",
       "    </tr>\n",
       "    <tr>\n",
       "      <th>2</th>\n",
       "      <td>n9925d</td>\n",
       "      <td>15.0</td>\n",
       "      <td>FUM35</td>\n",
       "      <td>5.0</td>\n",
       "      <td>1962-07-05</td>\n",
       "      <td>18-May-2009</td>\n",
       "      <td>2013-07-11</td>\n",
       "      <td>18634.0</td>\n",
       "      <td>female</td>\n",
       "      <td>84.0</td>\n",
       "      <td>NON_WHITE</td>\n",
       "    </tr>\n",
       "    <tr>\n",
       "      <th>3</th>\n",
       "      <td>a9913g</td>\n",
       "      <td>6.0</td>\n",
       "      <td>DSVN67</td>\n",
       "      <td>7.0</td>\n",
       "      <td>1930-10-16</td>\n",
       "      <td>14-Sep-1970</td>\n",
       "      <td>2013-11-12</td>\n",
       "      <td>30343.0</td>\n",
       "      <td>female</td>\n",
       "      <td>87.0</td>\n",
       "      <td>NON_WHITE</td>\n",
       "    </tr>\n",
       "    <tr>\n",
       "      <th>4</th>\n",
       "      <td>a9913g</td>\n",
       "      <td>6.0</td>\n",
       "      <td>DSVN67</td>\n",
       "      <td>7.0</td>\n",
       "      <td>1930-10-16</td>\n",
       "      <td>14-Sep-1970</td>\n",
       "      <td>2013-11-12</td>\n",
       "      <td>30343.0</td>\n",
       "      <td>female</td>\n",
       "      <td>87.0</td>\n",
       "      <td>NON_WHITE</td>\n",
       "    </tr>\n",
       "  </tbody>\n",
       "</table>\n",
       "</div>"
      ],
      "text/plain": [
       "  patient_id  external_patient_id external_practice_id  internal_practice_id  \\\n",
       "0     h9993d                 70.0                  QZ1                   9.0   \n",
       "1     w9986a                 46.0                 ZE4G                   4.0   \n",
       "2     n9925d                 15.0                FUM35                   5.0   \n",
       "3     a9913g                  6.0               DSVN67                   7.0   \n",
       "4     a9913g                  6.0               DSVN67                   7.0   \n",
       "\n",
       "  diagnosis_date advanced_diagnosis_date administered_date  datediff  gender  \\\n",
       "0     1992-03-29                     NaN        2012-10-11    7501.0  female   \n",
       "1     2012-02-15              3-Jul-2012        2011-05-25    -266.0  female   \n",
       "2     1962-07-05             18-May-2009        2013-07-11   18634.0  female   \n",
       "3     1930-10-16             14-Sep-1970        2013-11-12   30343.0  female   \n",
       "4     1930-10-16             14-Sep-1970        2013-11-12   30343.0  female   \n",
       "\n",
       "    age       race  \n",
       "0  69.0  NON_WHITE  \n",
       "1  46.0      WHITE  \n",
       "2  84.0  NON_WHITE  \n",
       "3  87.0  NON_WHITE  \n",
       "4  87.0  NON_WHITE  "
      ]
     },
     "execution_count": 252,
     "metadata": {},
     "output_type": "execute_result"
    }
   ],
   "source": [
    "diag_treat_diff_gender.head()"
   ]
  },
  {
   "cell_type": "code",
   "execution_count": 253,
   "metadata": {},
   "outputs": [
    {
     "data": {
      "text/plain": [
       "external_patient_id        53.250000\n",
       "internal_practice_id        5.875000\n",
       "datediff                16047.479167\n",
       "age                        70.958333\n",
       "dtype: float64"
      ]
     },
     "execution_count": 253,
     "metadata": {},
     "output_type": "execute_result"
    }
   ],
   "source": [
    "diag_treat_diff_gender[(diag_treat_diff_gender.datediff>0)&(diag_treat_diff_gender.gender == 'female')].mean()"
   ]
  },
  {
   "cell_type": "markdown",
   "metadata": {},
   "source": [
    "#### For females, the average days elapsed between initial diagnosis and first treatment is 16047 days or 43.9 years"
   ]
  },
  {
   "cell_type": "code",
   "execution_count": 254,
   "metadata": {},
   "outputs": [
    {
     "data": {
      "text/plain": [
       "external_patient_id        48.333333\n",
       "internal_practice_id        5.000000\n",
       "datediff                13017.285714\n",
       "age                        62.023810\n",
       "dtype: float64"
      ]
     },
     "execution_count": 254,
     "metadata": {},
     "output_type": "execute_result"
    }
   ],
   "source": [
    "diag_treat_diff_gender[(diag_treat_diff_gender.datediff>0)&(diag_treat_diff_gender.gender == 'male')].mean()"
   ]
  },
  {
   "cell_type": "markdown",
   "metadata": {},
   "source": [
    "#### For males, the average days elapsed between initial diagnosis and first treatment is 13017 days or 35.6 years"
   ]
  },
  {
   "cell_type": "markdown",
   "metadata": {},
   "source": [
    "## 2. How many patients are on nivolumab from 2012 - 2016?"
   ]
  },
  {
   "cell_type": "code",
   "execution_count": 257,
   "metadata": {},
   "outputs": [
    {
     "data": {
      "text/html": [
       "<div>\n",
       "<table border=\"1\" class=\"dataframe\">\n",
       "  <thead>\n",
       "    <tr style=\"text-align: right;\">\n",
       "      <th></th>\n",
       "      <th>patient_id</th>\n",
       "      <th>external_patient_id</th>\n",
       "      <th>order_id</th>\n",
       "      <th>administered_date</th>\n",
       "      <th>drug_name</th>\n",
       "    </tr>\n",
       "  </thead>\n",
       "  <tbody>\n",
       "    <tr>\n",
       "      <th>0</th>\n",
       "      <td>h9993d</td>\n",
       "      <td>70</td>\n",
       "      <td>w187808812917e</td>\n",
       "      <td>13-Dec-2012</td>\n",
       "      <td>bevacizumab</td>\n",
       "    </tr>\n",
       "    <tr>\n",
       "      <th>1</th>\n",
       "      <td>h9993d</td>\n",
       "      <td>70</td>\n",
       "      <td>r90118525421e</td>\n",
       "      <td>7-Aug-2015</td>\n",
       "      <td>nivolumab</td>\n",
       "    </tr>\n",
       "    <tr>\n",
       "      <th>2</th>\n",
       "      <td>h9993d</td>\n",
       "      <td>70</td>\n",
       "      <td>h84358125584w</td>\n",
       "      <td>30-Sep-2015</td>\n",
       "      <td>bevacizumab</td>\n",
       "    </tr>\n",
       "    <tr>\n",
       "      <th>3</th>\n",
       "      <td>h9993d</td>\n",
       "      <td>70</td>\n",
       "      <td>o81913333209g</td>\n",
       "      <td>8-Jan-2014</td>\n",
       "      <td>nivolumab</td>\n",
       "    </tr>\n",
       "    <tr>\n",
       "      <th>4</th>\n",
       "      <td>h9993d</td>\n",
       "      <td>70</td>\n",
       "      <td>e76139113344l</td>\n",
       "      <td>11-Oct-2012</td>\n",
       "      <td>erlotinib hcl</td>\n",
       "    </tr>\n",
       "  </tbody>\n",
       "</table>\n",
       "</div>"
      ],
      "text/plain": [
       "  patient_id  external_patient_id        order_id administered_date  \\\n",
       "0     h9993d                   70  w187808812917e       13-Dec-2012   \n",
       "1     h9993d                   70   r90118525421e        7-Aug-2015   \n",
       "2     h9993d                   70   h84358125584w       30-Sep-2015   \n",
       "3     h9993d                   70   o81913333209g        8-Jan-2014   \n",
       "4     h9993d                   70   e76139113344l       11-Oct-2012   \n",
       "\n",
       "       drug_name  \n",
       "0    bevacizumab  \n",
       "1      nivolumab  \n",
       "2    bevacizumab  \n",
       "3      nivolumab  \n",
       "4  erlotinib hcl  "
      ]
     },
     "execution_count": 257,
     "metadata": {},
     "output_type": "execute_result"
    }
   ],
   "source": [
    "admins.head()"
   ]
  },
  {
   "cell_type": "code",
   "execution_count": 258,
   "metadata": {
    "collapsed": true
   },
   "outputs": [],
   "source": [
    "admins['administered_date'] = pd.DatetimeIndex(admins['administered_date'] )"
   ]
  },
  {
   "cell_type": "code",
   "execution_count": 278,
   "metadata": {},
   "outputs": [
    {
     "data": {
      "text/plain": [
       "100"
      ]
     },
     "execution_count": 278,
     "metadata": {},
     "output_type": "execute_result"
    }
   ],
   "source": [
    "len(admins[(admins.administered_date >='2012-01-01')&(admins.administered_date <'2016-01-01')\n",
    "      & (admins.drug_name == 'nivolumab')])"
   ]
  },
  {
   "cell_type": "markdown",
   "metadata": {},
   "source": [
    "#### Between 2012 and 2016, there were 100 patients on nivolumab"
   ]
  },
  {
   "cell_type": "markdown",
   "metadata": {},
   "source": [
    "## 3. Using the following risk stratification rules, please summarize the number of high, medium, and low risk patients.\n",
    "- HighRisk = Female; any­age; NON_WHITE OR Male; >= 70; NON_WHITE \n",
    "- MediumRisk = Female; >=75, WHITE OR Male; <70; NON_WHITE\n",
    "- LowRisk = Female; < 75, WHITE OR Male; any­age; WHITE"
   ]
  },
  {
   "cell_type": "code",
   "execution_count": 279,
   "metadata": {
    "scrolled": true
   },
   "outputs": [
    {
     "data": {
      "text/html": [
       "<div>\n",
       "<table border=\"1\" class=\"dataframe\">\n",
       "  <thead>\n",
       "    <tr style=\"text-align: right;\">\n",
       "      <th></th>\n",
       "      <th>patient_id</th>\n",
       "      <th>gender</th>\n",
       "      <th>age</th>\n",
       "      <th>race</th>\n",
       "    </tr>\n",
       "  </thead>\n",
       "  <tbody>\n",
       "    <tr>\n",
       "      <th>0</th>\n",
       "      <td>h9993d</td>\n",
       "      <td>female</td>\n",
       "      <td>69.0</td>\n",
       "      <td>NON_WHITE</td>\n",
       "    </tr>\n",
       "    <tr>\n",
       "      <th>1</th>\n",
       "      <td>w9986a</td>\n",
       "      <td>female</td>\n",
       "      <td>46.0</td>\n",
       "      <td>WHITE</td>\n",
       "    </tr>\n",
       "    <tr>\n",
       "      <th>2</th>\n",
       "      <td>n9925d</td>\n",
       "      <td>female</td>\n",
       "      <td>84.0</td>\n",
       "      <td>NON_WHITE</td>\n",
       "    </tr>\n",
       "    <tr>\n",
       "      <th>3</th>\n",
       "      <td>a9913g</td>\n",
       "      <td>female</td>\n",
       "      <td>87.0</td>\n",
       "      <td>NON_WHITE</td>\n",
       "    </tr>\n",
       "    <tr>\n",
       "      <th>4</th>\n",
       "      <td>t9815h</td>\n",
       "      <td>female</td>\n",
       "      <td>97.0</td>\n",
       "      <td>WHITE</td>\n",
       "    </tr>\n",
       "  </tbody>\n",
       "</table>\n",
       "</div>"
      ],
      "text/plain": [
       "  patient_id  gender   age       race\n",
       "0     h9993d  female  69.0  NON_WHITE\n",
       "1     w9986a  female  46.0      WHITE\n",
       "2     n9925d  female  84.0  NON_WHITE\n",
       "3     a9913g  female  87.0  NON_WHITE\n",
       "4     t9815h  female  97.0      WHITE"
      ]
     },
     "execution_count": 279,
     "metadata": {},
     "output_type": "execute_result"
    }
   ],
   "source": [
    "dems.head()"
   ]
  },
  {
   "cell_type": "code",
   "execution_count": 295,
   "metadata": {},
   "outputs": [
    {
     "name": "stdout",
     "output_type": "stream",
     "text": [
      "The number of high risk patients are 30\n"
     ]
    }
   ],
   "source": [
    "high_risk = (len(dems[(dems.gender=='female')&(dems.race=='NON_WHITE')]))+(len(dems[(dems.gender=='male')&(dems.race=='NON_WHITE')&(dems.age>=70)]))\n",
    "print('The number of high risk patients are %d' %high_risk) "
   ]
  },
  {
   "cell_type": "code",
   "execution_count": 297,
   "metadata": {},
   "outputs": [
    {
     "name": "stdout",
     "output_type": "stream",
     "text": [
      "The number of medium risk patients are 24\n"
     ]
    }
   ],
   "source": [
    "med_risk = (len(dems[(dems.gender=='female')&(dems.age>=75)&(dems.race=='WHITE')]))+(len(dems[(dems.gender=='male')&(dems.race=='NON_WHITE')&(dems.age<70)]))\n",
    "print('The number of medium risk patients are %d' %med_risk) "
   ]
  },
  {
   "cell_type": "code",
   "execution_count": 298,
   "metadata": {},
   "outputs": [
    {
     "name": "stdout",
     "output_type": "stream",
     "text": [
      "The number of low risk patients are 39\n"
     ]
    }
   ],
   "source": [
    "low_risk = (len(dems[(dems.gender=='female')&(dems.age<75)&(dems.race=='WHITE')]))+(len(dems[(dems.gender=='male')&(dems.race=='WHITE')]))\n",
    "print('The number of low risk patients are %d' %low_risk) "
   ]
  },
  {
   "cell_type": "markdown",
   "metadata": {},
   "source": [
    "## 4. Please create a visualization that could be used to help a medical researcher? understand how drug prevalence has changed over time."
   ]
  },
  {
   "cell_type": "code",
   "execution_count": 299,
   "metadata": {},
   "outputs": [
    {
     "data": {
      "text/html": [
       "<div>\n",
       "<table border=\"1\" class=\"dataframe\">\n",
       "  <thead>\n",
       "    <tr style=\"text-align: right;\">\n",
       "      <th></th>\n",
       "      <th>patient_id</th>\n",
       "      <th>external_patient_id</th>\n",
       "      <th>order_id</th>\n",
       "      <th>administered_date</th>\n",
       "      <th>drug_name</th>\n",
       "    </tr>\n",
       "  </thead>\n",
       "  <tbody>\n",
       "    <tr>\n",
       "      <th>0</th>\n",
       "      <td>h9993d</td>\n",
       "      <td>70</td>\n",
       "      <td>w187808812917e</td>\n",
       "      <td>2012-12-13</td>\n",
       "      <td>bevacizumab</td>\n",
       "    </tr>\n",
       "    <tr>\n",
       "      <th>1</th>\n",
       "      <td>h9993d</td>\n",
       "      <td>70</td>\n",
       "      <td>r90118525421e</td>\n",
       "      <td>2015-08-07</td>\n",
       "      <td>nivolumab</td>\n",
       "    </tr>\n",
       "    <tr>\n",
       "      <th>2</th>\n",
       "      <td>h9993d</td>\n",
       "      <td>70</td>\n",
       "      <td>h84358125584w</td>\n",
       "      <td>2015-09-30</td>\n",
       "      <td>bevacizumab</td>\n",
       "    </tr>\n",
       "    <tr>\n",
       "      <th>3</th>\n",
       "      <td>h9993d</td>\n",
       "      <td>70</td>\n",
       "      <td>o81913333209g</td>\n",
       "      <td>2014-01-08</td>\n",
       "      <td>nivolumab</td>\n",
       "    </tr>\n",
       "    <tr>\n",
       "      <th>4</th>\n",
       "      <td>h9993d</td>\n",
       "      <td>70</td>\n",
       "      <td>e76139113344l</td>\n",
       "      <td>2012-10-11</td>\n",
       "      <td>erlotinib hcl</td>\n",
       "    </tr>\n",
       "  </tbody>\n",
       "</table>\n",
       "</div>"
      ],
      "text/plain": [
       "  patient_id  external_patient_id        order_id administered_date  \\\n",
       "0     h9993d                   70  w187808812917e        2012-12-13   \n",
       "1     h9993d                   70   r90118525421e        2015-08-07   \n",
       "2     h9993d                   70   h84358125584w        2015-09-30   \n",
       "3     h9993d                   70   o81913333209g        2014-01-08   \n",
       "4     h9993d                   70   e76139113344l        2012-10-11   \n",
       "\n",
       "       drug_name  \n",
       "0    bevacizumab  \n",
       "1      nivolumab  \n",
       "2    bevacizumab  \n",
       "3      nivolumab  \n",
       "4  erlotinib hcl  "
      ]
     },
     "execution_count": 299,
     "metadata": {},
     "output_type": "execute_result"
    }
   ],
   "source": [
    "admins.head()"
   ]
  },
  {
   "cell_type": "code",
   "execution_count": 300,
   "metadata": {
    "collapsed": true
   },
   "outputs": [],
   "source": [
    "admins_copy1 = admins[['patient_id','administered_date','drug_name']]"
   ]
  },
  {
   "cell_type": "code",
   "execution_count": 301,
   "metadata": {},
   "outputs": [
    {
     "name": "stderr",
     "output_type": "stream",
     "text": [
      "/Users/harishprabhala/anaconda/lib/python3.6/site-packages/ipykernel/__main__.py:1: SettingWithCopyWarning: \n",
      "A value is trying to be set on a copy of a slice from a DataFrame.\n",
      "Try using .loc[row_indexer,col_indexer] = value instead\n",
      "\n",
      "See the caveats in the documentation: http://pandas.pydata.org/pandas-docs/stable/indexing.html#indexing-view-versus-copy\n",
      "  if __name__ == '__main__':\n"
     ]
    }
   ],
   "source": [
    "admins_copy1['admin_year'] = admins_copy1['administered_date'].dt.year"
   ]
  },
  {
   "cell_type": "code",
   "execution_count": 317,
   "metadata": {},
   "outputs": [],
   "source": [
    "admins_copy1 = admins_copy1[admins_copy1.admin_year < 2018]"
   ]
  },
  {
   "cell_type": "code",
   "execution_count": 318,
   "metadata": {},
   "outputs": [],
   "source": [
    "drg = admins_copy1.groupby(['admin_year','drug_name']).size()"
   ]
  },
  {
   "cell_type": "code",
   "execution_count": 319,
   "metadata": {},
   "outputs": [
    {
     "data": {
      "text/plain": [
       "<matplotlib.axes._subplots.AxesSubplot at 0x11d3cb198>"
      ]
     },
     "execution_count": 319,
     "metadata": {},
     "output_type": "execute_result"
    },
    {
     "data": {
      "image/png": "[encoded data removed]",
      "text/plain": [
       "<matplotlib.figure.Figure at 0x11d1319b0>"
      ]
     },
     "metadata": {},
     "output_type": "display_data"
    },
    {
     "data": {
      "image/png": "[encoded data removed]",
      "text/plain": [
       "<matplotlib.figure.Figure at 0x11d318a90>"
      ]
     },
     "metadata": {},
     "output_type": "display_data"
    }
   ],
   "source": [
    "drg.unstack(1).plot(kind='Bar')\n",
    "drg.unstack(1).plot()"
   ]
  },
  {
   "cell_type": "markdown",
   "metadata": {},
   "source": [
    "#### The above two graphs represent the change of drug prevalence over time."
   ]
  },
  {
   "cell_type": "code",
   "execution_count": null,
   "metadata": {
    "collapsed": true
   },
   "outputs": [],
   "source": []
  }
 ],
 "metadata": {
  "kernelspec": {
   "display_name": "Python 3",
   "language": "python",
   "name": "python3"
  },
  "language_info": {
   "codemirror_mode": {
    "name": "ipython",
    "version": 3
   },
   "file_extension": ".py",
   "mimetype": "text/x-python",
   "name": "python",
   "nbconvert_exporter": "python",
   "pygments_lexer": "ipython3",
   "version": "3.6.0"
  }
 },
 "nbformat": 4,
 "nbformat_minor": 2
}
